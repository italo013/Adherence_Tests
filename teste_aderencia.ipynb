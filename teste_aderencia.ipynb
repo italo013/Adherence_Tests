{
 "cells": [
  {
   "cell_type": "code",
   "execution_count": 1,
   "metadata": {},
   "outputs": [],
   "source": [
    "#Importando Bibliotecas\n",
    "import pandas as pd\n",
    "from datetime import timedelta\n",
    "import scipy.stats as stats"
   ]
  },
  {
   "cell_type": "code",
   "execution_count": 2,
   "metadata": {},
   "outputs": [],
   "source": [
    "#Importando as Bases\n",
    "df_full = pd.read_csv('5.SERV_FALEC_EXON.csv', sep=';', encoding='UTF-8').assign(IDADE = '')\n",
    "\n",
    "df_full['DT_NASC_SERVIDOR'] = pd.to_datetime(df_full['DT_NASC_SERVIDOR'], yearfirst=True, format='%d/%m/%Y')\n",
    "df_full['DT_BASE'] = '31/12/2020'\n",
    "df_full['DT_BASE'] = pd.to_datetime(df_full.DT_BASE, yearfirst=True, format='%d/%m/%Y')\n",
    "df_full['IDADE'] = round((df_full.DT_BASE - df_full.DT_NASC_SERVIDOR) / timedelta(days=365.25) - 0.5).astype(int)"
   ]
  },
  {
   "cell_type": "code",
   "execution_count": 3,
   "metadata": {},
   "outputs": [],
   "source": [
    "#Importando as Tábuas\n",
    "df_tabuas = pd.read_excel('Funções Biométricas (Com Fórmulas).xlsx', sheet_name='qx')"
   ]
  },
  {
   "cell_type": "code",
   "execution_count": 6,
   "metadata": {},
   "outputs": [],
   "source": [
    "ary_expostos = []\n",
    "ary_esperados = []\n",
    "for l in range(126+1):\n",
    "    linha = []\n",
    "    linha2 = []\n",
    "    #Criando uma matriz com a quantidade de registros de cada IDADE\n",
    "    for c in range(1):\n",
    "        qtda = len(df_full[df_full['IDADE'] == l]) #Quantidade de eventos ocorridos em cada idade\n",
    "        linha.append(qtda)\n",
    "    ary_expostos.append(linha)\n",
    "\n",
    "    #Criando uma matriz com o número de MORTES esperadas por idade e o X² calculado\n",
    "    for c2 in range(len(df_tabuas.columns)):\n",
    "        esperado = ary_expostos[l][0] * df_tabuas.iloc[l, c2] #Expostos * qx da tábua\n",
    "        linha2.append(esperado)\n",
    "    ary_esperados.append(linha2)\n",
    "\n",
    "df_expostos = pd.DataFrame(data=ary_expostos)\n",
    "df_esperados = pd.DataFrame(data=ary_esperados, columns=df_tabuas.columns.values)"
   ]
  },
  {
   "cell_type": "code",
   "execution_count": 5,
   "metadata": {},
   "outputs": [],
   "source": [
    "#Cálculo do X²\n",
    "ary_qui_quadrado = []\n",
    "for l3 in range(127):\n",
    "    linha3 = []\n",
    "    for c3 in range(len(df_tabuas.columns)):\n",
    "        if df_esperados.iloc[l3, c3] == 0.0:\n",
    "            qui_quadrado = 0\n",
    "            linha3.append(qui_quadrado)\n",
    "        elif df_esperados.iloc[l3, c3] != 0.0:\n",
    "            qui_quadrado = (ary_expostos[l3][0] - df_esperados.iloc[l3, c3])**2/df_esperados.iloc[l3, c3]\n",
    "            linha3.append(qui_quadrado)\n",
    "    ary_qui_quadrado.append(linha3)\n",
    "\n",
    "df_qui_quadrado = pd.DataFrame(data=ary_qui_quadrado, columns=df_tabuas.columns.values)\n",
    "df_qui_quadrado.loc['qui_quadrado'] = round(df_qui_quadrado.sum(axis=0), 2)\n",
    "df_qui_quadrado.loc['p_value'] = 1-stats.chi2.cdf(x=df_qui_quadrado.loc['qui_quadrado'], df = int(df_expostos[df_expostos != 0].count() - 1))\n",
    "qui_quadrado_tabu = stats.chi2.ppf(q = 0.95, df = int(df_expostos[df_expostos != 0].count() - 1))"
   ]
  },
  {
   "cell_type": "code",
   "execution_count": null,
   "metadata": {},
   "outputs": [],
   "source": [
    "#Cálculo do Kolmogorov-Smirnov K-S\n",
    "ary_k_s = []\n",
    "for l4 in range(127):\n",
    "    linha4 = []\n",
    "    for c4 in range(len(df_tabuas.columns)):\n",
    "        #try:\n",
    "       ary_k_s = df_expostos.loc[:l4].sum() / df_expostos.sum()\n",
    "        #except ZeroDivisionError:      \n",
    "         \n",
    "ary_k_s\n",
    "#df_k_s = pd.DataFrame(data=ary_k_s, columns=df_tabuas.columns.values)\n",
    "#df_k_s.loc['k_s'] = round(df_k_s.sum(axis=0), 2)\n",
    "#df_k_s.loc['p_value'] = 1-stats.chi2.cdf(x=df_k_s.loc['k_s'], df = int(df_expostos[df_expostos != 0].count() - 1))\n",
    "\n",
    "#qui_quadrado_tabu = stats.chi2.ppf(q = 0.95, df = int(df_expostos[df_expostos != 0].count() - 1))\n",
    "#df_qui_quadrado"
   ]
  },
  {
   "cell_type": "code",
   "execution_count": null,
   "metadata": {},
   "outputs": [],
   "source": [
    "import numpy as np\n",
    "import pandas as pd\n",
    "import scipy.stats as stats\n",
    "\n",
    "'''ary = np.array([[6,1], [1.409100,1.523520]])\n",
    "chi2_contingency(ary)\n",
    "\n",
    "print(chi2_contingency(ary))\n",
    "\n",
    "#15,137217'''\n",
    "\n",
    "qui_quadrado_tabu = stats.chi2.ppf(q = 0.95, df = int(df_expostos[df_expostos != 0].count() - 1))\n",
    "#p_valor = 1-stats.chi2.cdf(x=18.194805, df=4)\n",
    "p_valor = round(1-stats.chi2.cdf(x=39.29, df= 19), 6)\n",
    "p_balor_k_S = stats.k\n",
    "\n",
    "print('Critical Value')\n",
    "print(qui_quadrado_tabu)\n",
    "print(p_valor)"
   ]
  },
  {
   "cell_type": "code",
   "execution_count": 109,
   "metadata": {},
   "outputs": [],
   "source": [
    "#Cálculo do Kolmogorov-Smirnov K-S\n",
    "\n",
    "df_esperados_acum = df_esperados.cumsum()\n",
    "df_expostos_acum = df_expostos.cumsum()\n",
    "ary_k_s = []\n",
    "for l in range(126+1):\n",
    "    linha2 = []\n",
    "    for c2 in range(len(df_tabuas.columns)):\n",
    "        k_s_calculado =  round(abs(((float(df_expostos_acum.loc[l]) / int(df_expostos.sum()))) - (float(df_esperados_acum.iloc[l, c2]) / df_esperados.iloc[:,c2].sum())), 6)\n",
    "        linha2.append(k_s_calculado)\n",
    "    ary_k_s.append(linha2)\n",
    "\n",
    "df_k_s = pd.DataFrame(data=ary_k_s, columns=df_tabuas.columns.values)"
   ]
  },
  {
   "cell_type": "code",
   "execution_count": 100,
   "metadata": {},
   "outputs": [
    {
     "data": {
      "text/plain": [
       "131336.0"
      ]
     },
     "execution_count": 100,
     "metadata": {},
     "output_type": "execute_result"
    }
   ],
   "source": [
    "df_k_s['AMERICAN EXPERIENCE'].sum()"
   ]
  },
  {
   "cell_type": "code",
   "execution_count": 76,
   "metadata": {},
   "outputs": [
    {
     "data": {
      "text/plain": [
       "22     1.3\n",
       "23     5.2\n",
       "24    11.7\n",
       "25    22.1\n",
       "26    27.3\n",
       "Name: ALLG-72, dtype: float64"
      ]
     },
     "execution_count": 76,
     "metadata": {},
     "output_type": "execute_result"
    }
   ],
   "source": [
    "df_esperados_acum.iloc[22:27,0]"
   ]
  },
  {
   "cell_type": "code",
   "execution_count": 37,
   "metadata": {},
   "outputs": [
    {
     "ename": "IndexError",
     "evalue": "single positional indexer is out-of-bounds",
     "output_type": "error",
     "traceback": [
      "\u001b[1;31m---------------------------------------------------------------------------\u001b[0m",
      "\u001b[1;31mIndexError\u001b[0m                                Traceback (most recent call last)",
      "\u001b[1;32m~\\AppData\\Local\\Temp/ipykernel_11916/1262770220.py\u001b[0m in \u001b[0;36m<module>\u001b[1;34m\u001b[0m\n\u001b[1;32m----> 1\u001b[1;33m \u001b[0mdf_expostos_acum\u001b[0m\u001b[1;33m.\u001b[0m\u001b[0miloc\u001b[0m\u001b[1;33m[\u001b[0m\u001b[1;36m2\u001b[0m\u001b[1;33m,\u001b[0m \u001b[1;36m2\u001b[0m\u001b[1;33m]\u001b[0m\u001b[1;33m\u001b[0m\u001b[1;33m\u001b[0m\u001b[0m\n\u001b[0m\u001b[0;32m      2\u001b[0m \u001b[1;31m#df_esperados['AMERICAN EXPERIENCE'].sum()\u001b[0m\u001b[1;33m\u001b[0m\u001b[1;33m\u001b[0m\u001b[0m\n",
      "\u001b[1;32m~\\AppData\\Local\\Packages\\PythonSoftwareFoundation.Python.3.9_qbz5n2kfra8p0\\LocalCache\\local-packages\\Python39\\site-packages\\pandas\\core\\indexing.py\u001b[0m in \u001b[0;36m__getitem__\u001b[1;34m(self, key)\u001b[0m\n\u001b[0;32m    923\u001b[0m                 \u001b[1;32mwith\u001b[0m \u001b[0msuppress\u001b[0m\u001b[1;33m(\u001b[0m\u001b[0mKeyError\u001b[0m\u001b[1;33m,\u001b[0m \u001b[0mIndexError\u001b[0m\u001b[1;33m)\u001b[0m\u001b[1;33m:\u001b[0m\u001b[1;33m\u001b[0m\u001b[1;33m\u001b[0m\u001b[0m\n\u001b[0;32m    924\u001b[0m                     \u001b[1;32mreturn\u001b[0m \u001b[0mself\u001b[0m\u001b[1;33m.\u001b[0m\u001b[0mobj\u001b[0m\u001b[1;33m.\u001b[0m\u001b[0m_get_value\u001b[0m\u001b[1;33m(\u001b[0m\u001b[1;33m*\u001b[0m\u001b[0mkey\u001b[0m\u001b[1;33m,\u001b[0m \u001b[0mtakeable\u001b[0m\u001b[1;33m=\u001b[0m\u001b[0mself\u001b[0m\u001b[1;33m.\u001b[0m\u001b[0m_takeable\u001b[0m\u001b[1;33m)\u001b[0m\u001b[1;33m\u001b[0m\u001b[1;33m\u001b[0m\u001b[0m\n\u001b[1;32m--> 925\u001b[1;33m             \u001b[1;32mreturn\u001b[0m \u001b[0mself\u001b[0m\u001b[1;33m.\u001b[0m\u001b[0m_getitem_tuple\u001b[0m\u001b[1;33m(\u001b[0m\u001b[0mkey\u001b[0m\u001b[1;33m)\u001b[0m\u001b[1;33m\u001b[0m\u001b[1;33m\u001b[0m\u001b[0m\n\u001b[0m\u001b[0;32m    926\u001b[0m         \u001b[1;32melse\u001b[0m\u001b[1;33m:\u001b[0m\u001b[1;33m\u001b[0m\u001b[1;33m\u001b[0m\u001b[0m\n\u001b[0;32m    927\u001b[0m             \u001b[1;31m# we by definition only have the 0th axis\u001b[0m\u001b[1;33m\u001b[0m\u001b[1;33m\u001b[0m\u001b[0m\n",
      "\u001b[1;32m~\\AppData\\Local\\Packages\\PythonSoftwareFoundation.Python.3.9_qbz5n2kfra8p0\\LocalCache\\local-packages\\Python39\\site-packages\\pandas\\core\\indexing.py\u001b[0m in \u001b[0;36m_getitem_tuple\u001b[1;34m(self, tup)\u001b[0m\n\u001b[0;32m   1504\u001b[0m     \u001b[1;32mdef\u001b[0m \u001b[0m_getitem_tuple\u001b[0m\u001b[1;33m(\u001b[0m\u001b[0mself\u001b[0m\u001b[1;33m,\u001b[0m \u001b[0mtup\u001b[0m\u001b[1;33m:\u001b[0m \u001b[0mtuple\u001b[0m\u001b[1;33m)\u001b[0m\u001b[1;33m:\u001b[0m\u001b[1;33m\u001b[0m\u001b[1;33m\u001b[0m\u001b[0m\n\u001b[0;32m   1505\u001b[0m \u001b[1;33m\u001b[0m\u001b[0m\n\u001b[1;32m-> 1506\u001b[1;33m         \u001b[0mself\u001b[0m\u001b[1;33m.\u001b[0m\u001b[0m_has_valid_tuple\u001b[0m\u001b[1;33m(\u001b[0m\u001b[0mtup\u001b[0m\u001b[1;33m)\u001b[0m\u001b[1;33m\u001b[0m\u001b[1;33m\u001b[0m\u001b[0m\n\u001b[0m\u001b[0;32m   1507\u001b[0m         \u001b[1;32mwith\u001b[0m \u001b[0msuppress\u001b[0m\u001b[1;33m(\u001b[0m\u001b[0mIndexingError\u001b[0m\u001b[1;33m)\u001b[0m\u001b[1;33m:\u001b[0m\u001b[1;33m\u001b[0m\u001b[1;33m\u001b[0m\u001b[0m\n\u001b[0;32m   1508\u001b[0m             \u001b[1;32mreturn\u001b[0m \u001b[0mself\u001b[0m\u001b[1;33m.\u001b[0m\u001b[0m_getitem_lowerdim\u001b[0m\u001b[1;33m(\u001b[0m\u001b[0mtup\u001b[0m\u001b[1;33m)\u001b[0m\u001b[1;33m\u001b[0m\u001b[1;33m\u001b[0m\u001b[0m\n",
      "\u001b[1;32m~\\AppData\\Local\\Packages\\PythonSoftwareFoundation.Python.3.9_qbz5n2kfra8p0\\LocalCache\\local-packages\\Python39\\site-packages\\pandas\\core\\indexing.py\u001b[0m in \u001b[0;36m_has_valid_tuple\u001b[1;34m(self, key)\u001b[0m\n\u001b[0;32m    752\u001b[0m         \u001b[1;32mfor\u001b[0m \u001b[0mi\u001b[0m\u001b[1;33m,\u001b[0m \u001b[0mk\u001b[0m \u001b[1;32min\u001b[0m \u001b[0menumerate\u001b[0m\u001b[1;33m(\u001b[0m\u001b[0mkey\u001b[0m\u001b[1;33m)\u001b[0m\u001b[1;33m:\u001b[0m\u001b[1;33m\u001b[0m\u001b[1;33m\u001b[0m\u001b[0m\n\u001b[0;32m    753\u001b[0m             \u001b[1;32mtry\u001b[0m\u001b[1;33m:\u001b[0m\u001b[1;33m\u001b[0m\u001b[1;33m\u001b[0m\u001b[0m\n\u001b[1;32m--> 754\u001b[1;33m                 \u001b[0mself\u001b[0m\u001b[1;33m.\u001b[0m\u001b[0m_validate_key\u001b[0m\u001b[1;33m(\u001b[0m\u001b[0mk\u001b[0m\u001b[1;33m,\u001b[0m \u001b[0mi\u001b[0m\u001b[1;33m)\u001b[0m\u001b[1;33m\u001b[0m\u001b[1;33m\u001b[0m\u001b[0m\n\u001b[0m\u001b[0;32m    755\u001b[0m             \u001b[1;32mexcept\u001b[0m \u001b[0mValueError\u001b[0m \u001b[1;32mas\u001b[0m \u001b[0merr\u001b[0m\u001b[1;33m:\u001b[0m\u001b[1;33m\u001b[0m\u001b[1;33m\u001b[0m\u001b[0m\n\u001b[0;32m    756\u001b[0m                 raise ValueError(\n",
      "\u001b[1;32m~\\AppData\\Local\\Packages\\PythonSoftwareFoundation.Python.3.9_qbz5n2kfra8p0\\LocalCache\\local-packages\\Python39\\site-packages\\pandas\\core\\indexing.py\u001b[0m in \u001b[0;36m_validate_key\u001b[1;34m(self, key, axis)\u001b[0m\n\u001b[0;32m   1407\u001b[0m             \u001b[1;32mreturn\u001b[0m\u001b[1;33m\u001b[0m\u001b[1;33m\u001b[0m\u001b[0m\n\u001b[0;32m   1408\u001b[0m         \u001b[1;32melif\u001b[0m \u001b[0mis_integer\u001b[0m\u001b[1;33m(\u001b[0m\u001b[0mkey\u001b[0m\u001b[1;33m)\u001b[0m\u001b[1;33m:\u001b[0m\u001b[1;33m\u001b[0m\u001b[1;33m\u001b[0m\u001b[0m\n\u001b[1;32m-> 1409\u001b[1;33m             \u001b[0mself\u001b[0m\u001b[1;33m.\u001b[0m\u001b[0m_validate_integer\u001b[0m\u001b[1;33m(\u001b[0m\u001b[0mkey\u001b[0m\u001b[1;33m,\u001b[0m \u001b[0maxis\u001b[0m\u001b[1;33m)\u001b[0m\u001b[1;33m\u001b[0m\u001b[1;33m\u001b[0m\u001b[0m\n\u001b[0m\u001b[0;32m   1410\u001b[0m         \u001b[1;32melif\u001b[0m \u001b[0misinstance\u001b[0m\u001b[1;33m(\u001b[0m\u001b[0mkey\u001b[0m\u001b[1;33m,\u001b[0m \u001b[0mtuple\u001b[0m\u001b[1;33m)\u001b[0m\u001b[1;33m:\u001b[0m\u001b[1;33m\u001b[0m\u001b[1;33m\u001b[0m\u001b[0m\n\u001b[0;32m   1411\u001b[0m             \u001b[1;31m# a tuple should already have been caught by this point\u001b[0m\u001b[1;33m\u001b[0m\u001b[1;33m\u001b[0m\u001b[0m\n",
      "\u001b[1;32m~\\AppData\\Local\\Packages\\PythonSoftwareFoundation.Python.3.9_qbz5n2kfra8p0\\LocalCache\\local-packages\\Python39\\site-packages\\pandas\\core\\indexing.py\u001b[0m in \u001b[0;36m_validate_integer\u001b[1;34m(self, key, axis)\u001b[0m\n\u001b[0;32m   1498\u001b[0m         \u001b[0mlen_axis\u001b[0m \u001b[1;33m=\u001b[0m \u001b[0mlen\u001b[0m\u001b[1;33m(\u001b[0m\u001b[0mself\u001b[0m\u001b[1;33m.\u001b[0m\u001b[0mobj\u001b[0m\u001b[1;33m.\u001b[0m\u001b[0m_get_axis\u001b[0m\u001b[1;33m(\u001b[0m\u001b[0maxis\u001b[0m\u001b[1;33m)\u001b[0m\u001b[1;33m)\u001b[0m\u001b[1;33m\u001b[0m\u001b[1;33m\u001b[0m\u001b[0m\n\u001b[0;32m   1499\u001b[0m         \u001b[1;32mif\u001b[0m \u001b[0mkey\u001b[0m \u001b[1;33m>=\u001b[0m \u001b[0mlen_axis\u001b[0m \u001b[1;32mor\u001b[0m \u001b[0mkey\u001b[0m \u001b[1;33m<\u001b[0m \u001b[1;33m-\u001b[0m\u001b[0mlen_axis\u001b[0m\u001b[1;33m:\u001b[0m\u001b[1;33m\u001b[0m\u001b[1;33m\u001b[0m\u001b[0m\n\u001b[1;32m-> 1500\u001b[1;33m             \u001b[1;32mraise\u001b[0m \u001b[0mIndexError\u001b[0m\u001b[1;33m(\u001b[0m\u001b[1;34m\"single positional indexer is out-of-bounds\"\u001b[0m\u001b[1;33m)\u001b[0m\u001b[1;33m\u001b[0m\u001b[1;33m\u001b[0m\u001b[0m\n\u001b[0m\u001b[0;32m   1501\u001b[0m \u001b[1;33m\u001b[0m\u001b[0m\n\u001b[0;32m   1502\u001b[0m     \u001b[1;31m# -------------------------------------------------------------------\u001b[0m\u001b[1;33m\u001b[0m\u001b[1;33m\u001b[0m\u001b[0m\n",
      "\u001b[1;31mIndexError\u001b[0m: single positional indexer is out-of-bounds"
     ]
    }
   ],
   "source": [
    "df_expostos_acum.iloc[2, 2]\n",
    "#df_esperados['AMERICAN EXPERIENCE'].sum()"
   ]
  },
  {
   "cell_type": "code",
   "execution_count": null,
   "metadata": {},
   "outputs": [],
   "source": [
    "#Cálculo do Kolmogorov-Smirnov K-S\n",
    "ary_k_s = []\n",
    "for l4 in range(127):\n",
    "    linha4 = []\n",
    "    for c4 in range(len(df_tabuas.columns)):\n",
    "        try:\n",
    "            ary_k_s = ary_expostos.loc[:l4].sum() / df_expostos.sum()\n",
    "        except ZeroDivisionError:      \n",
    "         \n",
    "        \n",
    "        if df_esperados.iloc[l4, c4] != 0.0:\n",
    "            qui_k_s = (ary_expostos[l4][0] - df_esperados.iloc[l4, c4])**2/df_esperados.iloc[l4, c4]\n",
    "            linha4.append(qui_k_s)\n",
    "    ary_k_s.append(linha4)\n",
    "\n",
    "for c in range(127):\n",
    "    Nx_morta.loc[c] = Dx_morta.loc[c:].sum()#.map('{:2f}'.format)\n",
    "\n",
    "df_k_s = pd.DataFrame(data=ary_k_s, columns=df_tabuas.columns.values)\n",
    "df_k_s.loc['k_s'] = round(df_k_s.sum(axis=0), 2)\n",
    "df_k_s.loc['p_value'] = 1-stats.chi2.cdf(x=df_k_s.loc['k_s'], df = int(df_expostos[df_expostos != 0].count() - 1))\n",
    "\n",
    "qui_quadrado_tabu = stats.chi2.ppf(q = 0.95, df = int(df_expostos[df_expostos != 0].count() - 1))\n",
    "df_qui_quadrado"
   ]
  }
 ],
 "metadata": {
  "interpreter": {
   "hash": "94f7e7c947614aa1cda25daa75d25ae2e9a77784bd1ff0ad50cea51dcb4701fc"
  },
  "kernelspec": {
   "display_name": "Python 3.9.7 64-bit (windows store)",
   "name": "python3"
  },
  "language_info": {
   "codemirror_mode": {
    "name": "ipython",
    "version": 3
   },
   "file_extension": ".py",
   "mimetype": "text/x-python",
   "name": "python",
   "nbconvert_exporter": "python",
   "pygments_lexer": "ipython3",
   "version": "3.9.7"
  },
  "orig_nbformat": 4
 },
 "nbformat": 4,
 "nbformat_minor": 2
}

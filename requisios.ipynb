{
 "cells": [
  {
   "cell_type": "code",
   "execution_count": null,
   "metadata": {},
   "outputs": [],
   "source": [
    "import numpy as np\n",
    "import pandas as pd\n",
    "import scipy.stats as stats\n",
    "\n",
    "'''ary = np.array([[6,1], [1.409100,1.523520]])\n",
    "chi2_contingency(ary)\n",
    "\n",
    "print(chi2_contingency(ary))\n",
    "\n",
    "#15,137217'''\n",
    "\n",
    "#qui_quadrado_tabu = stats.chi2.ppf(q = 0.95, df = int(df_expostos[df_expostos != 0].count() - 1))\n",
    "#p_valor = 1-stats.chi2.cdf(x=18.194805, df=4)\n",
    "#p_valor = round(1-stats.chi2.cdf(x=0.060, df= 19), 6)\n",
    "\n",
    "#p_valor_k_s = stats.kstest(df_k_s['AMERICAN EXPERIENCE'], 'norm')\n",
    "p_valor_k_s = stats.chi2.cdf(x=df_k_s.loc['SOMA'], df = int(df_expostos[df_expostos != 0].count() - 1))\n",
    "\n",
    "print('Critical Value')\n",
    "#print(qui_quadrado_tabu)\n",
    "#print(round(p_valor_k_s, 6))\n",
    "print(p_valor_k_s)"
   ]
  },
  {
   "cell_type": "code",
   "execution_count": null,
   "metadata": {},
   "outputs": [],
   "source": []
  }
 ],
 "metadata": {
  "language_info": {
   "name": "python"
  },
  "orig_nbformat": 4
 },
 "nbformat": 4,
 "nbformat_minor": 2
}
